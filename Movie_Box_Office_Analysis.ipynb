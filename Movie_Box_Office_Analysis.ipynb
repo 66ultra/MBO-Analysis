{
 "cells": [
  {
   "cell_type": "markdown",
   "metadata": {},
   "source": [
    "![example](images/director_shot.jpeg)"
   ]
  },
  {
   "cell_type": "markdown",
   "metadata": {},
   "source": [
    "# **Movie and Box Office Analysis**\n",
    "\n",
    "**Author:** Noah Meakins\n",
    "***"
   ]
  },
  {
   "cell_type": "markdown",
   "metadata": {},
   "source": [
    "## **Overview**\n",
    "\n",
    "This project aims to analyze factors influencing movie success by examining various datasets related to movie revenues, budgets, ratings, and other attributes. To accomplish this I performed an exploratory data analysis (EDA) to understand the data better and visualized the relationships between different variables. Based on my findings, I will provide actionable insights for the movie studio.\n",
    "\n",
    "For a deeper and more technical look into the analysis and how it was accomplished, please navigate to the folder listed `code` that is attached to this project. "
   ]
  },
  {
   "cell_type": "markdown",
   "metadata": {},
   "source": [
    "### **Business Problem**\n",
    "The primary goal of this project is to identify key factors of box office success to help the movie studio make informed production and marketing decisions.\n",
    "\n",
    "**Questions That Were Considered:**\n",
    "- What are the key factors that contribute to a movie's success?\n",
    "- How can the studio optimize its budget allocation for maximum returns?\n",
    "- What genre trends should the studio focus on to attract a larger audience?"
   ]
  },
  {
   "cell_type": "markdown",
   "metadata": {},
   "source": [
    "### **Data Understanding**\n",
    "\n",
    "Multiple datasets were provided and utilized for this analysis, including movie gross revenue, ratings, and budget information. The key variables include:\n",
    "\n",
    "- `domestic_gross` - domestic gross revenue of listed movies titles\n",
    "- `foreign_gross` - foreign gross revenue of listed movie titles\n",
    "- `production_budget` - budget spent on the production of listed movie titles\n",
    "- `year` - year of release\n",
    "- `runtime_minutes` - minutes of runtime for each movie title\n",
    "- `genres` - genres for each movie title listed\n",
    "- `average_rating` - average rating for all listed movie titles\n",
    "- `num_votes` - number of votes per movie title\n",
    "- `popularity` - recorded popularity of each movie title\n",
    "- `vote_average` - average vote count for each movie title\n",
    "- `vote_count` - additional vote data for each movie title\n",
    "- `worldwide_gross` - worldwide gross revenue for each movie title\n",
    "\n",
    "#### **Data Sources**\n",
    "\n",
    "- bom_movie_gross: This is data provided from https://www.boxofficemojo.com/\n",
    "- im.db: This is an SQLite database with data provided from https://www.imdb.com/\n",
    "- tmdb_movies: This is data provided from https://www.themoviedb.org/\n",
    "- tn_movie_budgets: This is a dataset from https://www.the-numbers.com/\n"
   ]
  },
  {
   "cell_type": "markdown",
   "metadata": {},
   "source": [
    "## **Data Preparation**\n",
    "\n",
    "The data preparation involved several steps to clean, transform, and merge datasets from the provided sources:\n",
    "1. **Box Office Mojo Data**:\n",
    "   - Removed non-numeric characters from `foreign_gross` and filled missing values with 0.\n",
    "   - Filled missing `studio` values with 'Unknown'.\n",
    "   - Dropped rows with missing `domestic_gross`.\n",
    "2. **IMDb Data**:\n",
    "   - Filled missing `runtime_minutes` with the median value.\n",
    "   - Replaced missing `genres` with 'Unknown'.\n",
    "   - Ensured all movies had a title by filling missing `original_title` with `primary_title`.\n",
    "3. **The Numbers Data**:\n",
    "   - Removed non-numeric characters from `production_budget`, `domestic_gross`, and `worldwide_gross`.\n",
    "4. **TMDb Data**:\n",
    "   - Dropped unnecessary index column.\n",
    "   - Converted `popularity`, `vote_average`, and `vote_count` to numeric types.\n",
    "   - Converted `release_date` to datetime type.\n",
    "5. **Column Selection and Renaming**:\n",
    "   - Kept relevant columns and renamed them for consistency.\n",
    "   - Replaced zero values in financial columns to avoid issues with log transformation.\n",
    "   - Applied log transformation to normalize skewed financial data.\n",
    "\n",
    "All steps that were taken were performed with great consideration to the overall integrity of the analysis. \n",
    "\n",
    "The final merged dataset combines cleaned and formatted data from all sources, this consolidated dataset will be used for the analysis."
   ]
  },
  {
   "cell_type": "code",
   "execution_count": null,
   "metadata": {},
   "outputs": [],
   "source": [
    "# importing standard packages\n",
    "import pandas as pd\n",
    "import numpy as np\n",
    "import matplotlib.pyplot as plt\n",
    "import seaborn as sns\n",
    "%matplotlib inline"
   ]
  },
  {
   "cell_type": "code",
   "execution_count": null,
   "metadata": {},
   "outputs": [],
   "source": [
    "# importing the visualization script I created\n",
    "import visualizations as viz\n",
    "\n",
    "# loading the cleaned dataset\n",
    "merged_df = pd.read_csv('cleanedData/cleaned_data.csv')"
   ]
  },
  {
   "cell_type": "code",
   "execution_count": null,
   "metadata": {},
   "outputs": [],
   "source": [
    "# heatmap: correlation heatmap\n",
    "correlation_data = merged_df.corr()\n",
    "viz.heatmap(\n",
    "    data=correlation_data, \n",
    "    title='Correlation Heatmap', \n",
    "    save_path='../images/correlation_heatmap.png'\n",
    ")"
   ]
  },
  {
   "cell_type": "code",
   "execution_count": null,
   "metadata": {},
   "outputs": [],
   "source": [
    "# scatter plot: domestic gross vs. foreign gross\n",
    "viz.scatter_plot_with_trend(\n",
    "    data=merged_df, \n",
    "    x='domestic_gross', \n",
    "    y='foreign_gross', \n",
    "    title='Domestic Gross vs. Foreign Gross', \n",
    "    xlabel='Domestic Gross', \n",
    "    ylabel='Foreign Gross', \n",
    "    save_path='../images/scatter_domestic_foreign_gross.png'\n",
    ")"
   ]
  },
  {
   "cell_type": "code",
   "execution_count": null,
   "metadata": {},
   "outputs": [],
   "source": [
    "# scatter plot: production budget vs. worldwide gross\n",
    "viz.scatter_plot_with_trend(\n",
    "    data=merged_df, \n",
    "    x='production_budget', \n",
    "    y='worldwide_gross', \n",
    "    title='Production Budget vs. Worldwide Gross', \n",
    "    xlabel='Production Budget', \n",
    "    ylabel='Worldwide Gross', \n",
    "    save_path='../images/scatter_budget_worldwide_gross.png'\n",
    ")"
   ]
  },
  {
   "cell_type": "code",
   "execution_count": null,
   "metadata": {},
   "outputs": [],
   "source": [
    "# scatter plot: runtime minutes vs. number of votes\n",
    "viz.scatter_plot_with_trend(\n",
    "    data=merged_df, \n",
    "    x='runtime_minutes', \n",
    "    y='num_votes', \n",
    "    title='Runtime Minutes vs. Number of Votes', \n",
    "    xlabel='Runtime Minutes', \n",
    "    ylabel='Number of Votes', \n",
    "    save_path='../images/scatter_runtime_votes.png'\n",
    ")"
   ]
  },
  {
   "cell_type": "code",
   "execution_count": null,
   "metadata": {},
   "outputs": [],
   "source": [
    "# bar plot: average rating by genre\n",
    "viz.bar_plot(\n",
    "    data=merged_df, \n",
    "    x='genres', \n",
    "    y='average_rating', \n",
    "    title='Average Rating by Genre', \n",
    "    xlabel='Genres', \n",
    "    ylabel='Average Rating', \n",
    "    save_path='../images/bar_avg_rating_genre.png'\n",
    ")"
   ]
  },
  {
   "cell_type": "markdown",
   "metadata": {},
   "source": [
    "## **Evaluation**\n",
    "\n",
    "My analysis reveals several key factors influencing movie success:\n",
    "- High production budgets are generally associated with higher revenues.\n",
    "- Movies that perform well domestically often do well internationally too.\n",
    "- Certain genres receive higher average ratings, which could influence viewer preference and revenue.\n",
    "\n",
    "## **Recommendations**\n",
    "\n",
    "1. **Invest in High Production Budgets**: Given the strong correlation with worldwide gross, investing in higher production budgets could yield better financial returns.\n",
    "2. **Focus on Popular Genres**: Biography-Drama-History and Action-Adventure-Animation movies tend to receive higher ratings, indicating a potential area for strategic focus.\n",
    "3. **Target Global Markets**: Since domestic and foreign grosses are highly correlated, a strategy that maximizes domestic performance is likely to succeed internationally as well."
   ]
  },
  {
   "cell_type": "markdown",
   "metadata": {},
   "source": [
    "## **Conclusions**\n",
    "My analysis provides actionable insights for the new movie studio:\n",
    "\n",
    "1. **Investment Strategy**: Focus on movies with higher production budgets to maximize revenue potential.\n",
    "2. **Genre Selection**: Prioritize genres like Biography-Drama-History and Action-Adventure-Animation movies that tend to receive higher ratings and audience engagement.\n",
    "3. **Global Market Strategy**: Develop marketing and distribution strategies that enhance domestic performance, which in turn could boost international revenues when released internationally."
   ]
  }
 ],
 "metadata": {
  "kernelspec": {
   "display_name": "Python 3",
   "language": "python",
   "name": "python3"
  },
  "language_info": {
   "codemirror_mode": {
    "name": "ipython",
    "version": 3
   },
   "file_extension": ".py",
   "mimetype": "text/x-python",
   "name": "python",
   "nbconvert_exporter": "python",
   "pygments_lexer": "ipython3",
   "version": "3.12.2"
  }
 },
 "nbformat": 4,
 "nbformat_minor": 4
}
